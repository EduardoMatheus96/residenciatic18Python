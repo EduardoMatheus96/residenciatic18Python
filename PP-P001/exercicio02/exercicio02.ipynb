{
 "cells": [
  {
   "cell_type": "markdown",
   "metadata": {},
   "source": [
    "## Operadores Aritméticos em Python:\n",
    "Em Python, os operadores aritméticos básicos são semelhantes ao C/C++ mas com algumas diferenças notáveis."
   ]
  },
  {
   "cell_type": "markdown",
   "metadata": {},
   "source": [
    "1. Adição:"
   ]
  },
  {
   "cell_type": "code",
   "execution_count": null,
   "metadata": {},
   "outputs": [],
   "source": [
    "a = 5\n",
    "b = 3\n",
    "resultado = a + b\n",
    "print(resultado)\n"
   ]
  },
  {
   "cell_type": "markdown",
   "metadata": {},
   "source": [
    "2. Subtração:"
   ]
  },
  {
   "cell_type": "code",
   "execution_count": null,
   "metadata": {},
   "outputs": [],
   "source": [
    "a = 5\n",
    "b = 3\n",
    "resultado = a - b\n",
    "print(resultado)"
   ]
  },
  {
   "cell_type": "markdown",
   "metadata": {},
   "source": [
    "3. Multiplicação: "
   ]
  },
  {
   "cell_type": "code",
   "execution_count": null,
   "metadata": {},
   "outputs": [],
   "source": [
    "a = 5\n",
    "b = 3\n",
    "resultado = a * b\n",
    "print(resultado)"
   ]
  },
  {
   "cell_type": "markdown",
   "metadata": {},
   "source": [
    "4. Divisão: "
   ]
  },
  {
   "cell_type": "code",
   "execution_count": null,
   "metadata": {},
   "outputs": [],
   "source": [
    "a = 5\n",
    "b = 3\n",
    "resultado = a / b  # Resultado será um número de ponto flutuante\n",
    "print(resultado, \"Tipo da variavel resultado: \", type(resultado))"
   ]
  },
  {
   "cell_type": "markdown",
   "metadata": {},
   "source": [
    "5. Divisão Inteira:"
   ]
  },
  {
   "cell_type": "code",
   "execution_count": null,
   "metadata": {},
   "outputs": [],
   "source": [
    "a = 5\n",
    "b = 3\n",
    "resultado = a // b  # Resultado será um número inteiro\n",
    "print(resultado, \"Tipo da variavel resultado: \", type(resultado))"
   ]
  },
  {
   "cell_type": "markdown",
   "metadata": {},
   "source": [
    "6. Resto da Divisão: "
   ]
  },
  {
   "cell_type": "code",
   "execution_count": null,
   "metadata": {},
   "outputs": [],
   "source": [
    "a = 5\n",
    "b = 3\n",
    "resultado = a % b\n",
    "print(resultado)"
   ]
  },
  {
   "cell_type": "markdown",
   "metadata": {},
   "source": [
    "7. Potenciação"
   ]
  },
  {
   "cell_type": "code",
   "execution_count": null,
   "metadata": {},
   "outputs": [],
   "source": [
    "a = 2\n",
    "b = 3\n",
    "resultado = a ** b  # 2 elevado à potência 3\n",
    "print(resultado)"
   ]
  },
  {
   "cell_type": "markdown",
   "metadata": {},
   "source": [
    "## Operadores Aritméticos Compostos:\n",
    "Além dos operadores básicos, Python suporta operadores compostos que permitem realizar uma operação e atribuir o resultado à mesma variável em uma única expressão. Esses operadores são úteis para simplificar o código."
   ]
  },
  {
   "cell_type": "markdown",
   "metadata": {},
   "source": [
    "1. Adição e Atribuição:"
   ]
  },
  {
   "cell_type": "code",
   "execution_count": null,
   "metadata": {},
   "outputs": [],
   "source": [
    "a = 5\n",
    "b = 3\n",
    "a += b  # Equivalente a a = a + b\n",
    "print(a)"
   ]
  },
  {
   "cell_type": "markdown",
   "metadata": {},
   "source": [
    "2. Subtração e Atribuição:"
   ]
  },
  {
   "cell_type": "code",
   "execution_count": null,
   "metadata": {},
   "outputs": [],
   "source": [
    "a = 5\n",
    "b = 3\n",
    "a -= b  # Equivalente a a = a - b\n",
    "print(a)"
   ]
  },
  {
   "cell_type": "markdown",
   "metadata": {},
   "source": [
    "3. Multiplicação e Atribuição:\n",
    "\n"
   ]
  },
  {
   "cell_type": "code",
   "execution_count": null,
   "metadata": {},
   "outputs": [],
   "source": [
    "a = 5\n",
    "b = 3\n",
    "a *= b  # Equivalente a a = a * b\n",
    "print(a)"
   ]
  },
  {
   "cell_type": "markdown",
   "metadata": {},
   "source": [
    "4. Divisão e Atribuição:"
   ]
  },
  {
   "cell_type": "code",
   "execution_count": null,
   "metadata": {},
   "outputs": [],
   "source": [
    "a = 5\n",
    "b = 3\n",
    "a /= b  # Equivalente a a = a / b\n",
    "print(a)"
   ]
  },
  {
   "cell_type": "markdown",
   "metadata": {},
   "source": [
    "5. Divisão Inteira e Atribuição:"
   ]
  },
  {
   "cell_type": "code",
   "execution_count": null,
   "metadata": {},
   "outputs": [],
   "source": [
    "a = 5\n",
    "b = 3\n",
    "a //= b  # Equivalente a a = a // b\n",
    "print(a)"
   ]
  },
  {
   "cell_type": "markdown",
   "metadata": {},
   "source": [
    "6. Resto da Divisão e Atribuição:"
   ]
  },
  {
   "cell_type": "code",
   "execution_count": null,
   "metadata": {},
   "outputs": [],
   "source": [
    "a = 5\n",
    "b = 3\n",
    "a %= b  # Equivalente a a = a % b\n",
    "print(a)"
   ]
  },
  {
   "cell_type": "markdown",
   "metadata": {},
   "source": [
    "7. Potenciação e Atribuição:"
   ]
  },
  {
   "cell_type": "code",
   "execution_count": null,
   "metadata": {},
   "outputs": [],
   "source": [
    "a = 2\n",
    "b = 3\n",
    "a **= b  # Equivalente a a = a ** b\n",
    "print(a)"
   ]
  },
  {
   "cell_type": "markdown",
   "metadata": {},
   "source": [
    "## Diferenças e Novidades em Relação a C/C++:\n",
    "### 1. Divisão Padrão:\n",
    "Em Python, a divisão de inteiros resulta em um número de ponto flutuante, ao contrário de C/C++, onde a divisão de inteiros retorna um número inteiro truncado.\n",
    "\n",
    "### 2. Tipo Dinâmico:\n",
    "Python é uma linguagem de tipagem dinâmica, o que significa que você não precisa declarar o tipo de uma variável antes de usá-la. Isso contrasta com C/C++, onde você deve declarar explicitamente o tipo de cada variável.\n",
    "\n",
    "### 3. Operadores Compostos:\n",
    "Python oferece operadores compostos que são mais concisos do que em C/C++, proporcionando uma forma mais legível de expressar operações comuns.\n",
    "\n",
    "### 4. Sem Overflow:\n",
    "Ao contrário de C/C++, Python não possui overflow de inteiros. Os inteiros em Python têm precisão arbitrária, o que significa que podem crescer para acomodar valores muito grandes.\n",
    "\n",
    "### 5. Flexibilidade de Tipos:\n",
    "Python permite operações entre diferentes tipos de dados sem a necessidade de conversão explícita. Isso é mais flexível do que C/C++, onde operações entre diferentes tipos podem exigir conversões específicas.\n",
    "\n",
    "Em resumo, Python oferece uma sintaxe mais expressiva e flexível em comparação com C/C++, tornando-o mais fácil de aprender e usar para muitos programadores."
   ]
  },
  {
   "cell_type": "markdown",
   "metadata": {},
   "source": [
    "## Fatorial de 30:"
   ]
  },
  {
   "cell_type": "code",
   "execution_count": 8,
   "metadata": {},
   "outputs": [
    {
     "name": "stdout",
     "output_type": "stream",
     "text": [
      "Fatorial de 30 em Python: 265252859812191058636308480000000\n"
     ]
    }
   ],
   "source": [
    "def fatorial(n):\n",
    "    if n == 0 or n == 1:\n",
    "        return 1\n",
    "    else:\n",
    "        return n * fatorial(n - 1)\n",
    "\n",
    "resultado_python = fatorial(30)\n",
    "print(\"Fatorial de 30 em Python:\", resultado_python)\n"
   ]
  },
  {
   "cell_type": "markdown",
   "metadata": {},
   "source": [
    "* OBS: Em muitos sistemas, um int em C/C++ é de 32 bits, permitindo representar valores de -2^31 a 2^31 - 1, já em python é possível calcular o fatorial de números inteiros significativamente grandes sem se preocupar com o overflow, pois os inteiros em Python têm precisão arbitrária. \n"
   ]
  },
  {
   "cell_type": "markdown",
   "metadata": {},
   "source": [
    "## Variáveis imutá veis exemplos:"
   ]
  },
  {
   "cell_type": "code",
   "execution_count": null,
   "metadata": {},
   "outputs": [],
   "source": [
    "# Exemplo 1: Imutabilidade em operações de atribuição\n",
    "a = 5\n",
    "b = a  # 'b' recebe o valor de 'a'\n",
    "b += 2  # Isso cria uma nova variável 'b' com o valor 7, sem modificar 'a'\n",
    "\n",
    "print(\"a:\", a)  # Saída: a: 5\n",
    "print(\"b:\", b)  # Saída: b: 7\n",
    "\n",
    "# Exemplo 2: Imutabilidade em operações matemáticas\n",
    "x = 10\n",
    "y = x * 2  # 'y' recebe o resultado da multiplicação, não altera 'x'\n",
    "\n",
    "print(\"x:\", x)  # Saída: x: 10\n",
    "print(\"y:\", y)  # Saída: y: 20\n"
   ]
  },
  {
   "cell_type": "markdown",
   "metadata": {},
   "source": [
    "* OBS: Nesse exemplo, você pode observar que, mesmo após realizar operações como adição ou multiplicação, as variáveis originais (a e x) permanecem inalteradas. O que acontece é que novas variáveis são criadas para armazenar os resultados das operações."
   ]
  },
  {
   "cell_type": "code",
   "execution_count": null,
   "metadata": {},
   "outputs": [],
   "source": [
    "# Exemplo 3: Imutabilidade em passagem de argumentos para funções\n",
    "def modificar_valor(numero):\n",
    "    numero += 10\n",
    "    print(\"Dentro da função:\", numero)\n",
    "\n",
    "x = 5\n",
    "modificar_valor(x)\n",
    "print(\"Fora da função:\", x)\n",
    "# Saída:\n",
    "# Dentro da função: 15\n",
    "# Fora da função: 5\n"
   ]
  },
  {
   "cell_type": "markdown",
   "metadata": {},
   "source": [
    "* OBS: Neste exemplo, mesmo que o valor de x seja modificado dentro da função, isso não afeta a variável original fora da função. A imutabilidade garante que o valor original da variável seja preservado."
   ]
  },
  {
   "cell_type": "markdown",
   "metadata": {},
   "source": [
    "## Metodos disponiveis para variáveis inteiras:\n",
    "\n",
    "1. `bit_lenght()`"
   ]
  },
  {
   "cell_type": "code",
   "execution_count": null,
   "metadata": {},
   "outputs": [],
   "source": [
    "x = 42\n",
    "bits = x.bit_length()\n",
    "print(\"Número de bits:\", bits)  # Saída: 6\n"
   ]
  },
  {
   "cell_type": "markdown",
   "metadata": {},
   "source": [
    "2. `to_bytes(length, byteorder)`\n",
    "* Converte o número inteiro em uma representação de bytes."
   ]
  },
  {
   "cell_type": "code",
   "execution_count": null,
   "metadata": {},
   "outputs": [],
   "source": [
    "x = 1234\n",
    "bytes_representation = x.to_bytes(2, byteorder='big')\n",
    "print(\"Representação em bytes:\", bytes_representation)  # Saída: b'\\x04\\xd2'\n"
   ]
  },
  {
   "cell_type": "markdown",
   "metadata": {},
   "source": [
    "3. `from_bytes(bytes, byteorder)`\n",
    "* Converte uma representação de bytes de volta para um número inteiro."
   ]
  },
  {
   "cell_type": "code",
   "execution_count": null,
   "metadata": {},
   "outputs": [],
   "source": [
    "bytes_representation = b'\\x04\\xd2'\n",
    "integer_value = int.from_bytes(bytes_representation, byteorder='big')\n",
    "print(\"Valor inteiro:\", integer_value)  # Saída: 1234\n"
   ]
  },
  {
   "cell_type": "markdown",
   "metadata": {},
   "source": [
    "4. `Conjugate()`\n",
    "* Retorna o conjugado do número complexo (para números inteiros, o conjugado é o próprio número)."
   ]
  },
  {
   "cell_type": "code",
   "execution_count": null,
   "metadata": {},
   "outputs": [],
   "source": [
    "x = 5\n",
    "conjugate_x = x.conjugate()\n",
    "print(\"Conjugado:\", conjugate_x)  # Saída: 5\n"
   ]
  },
  {
   "cell_type": "markdown",
   "metadata": {},
   "source": [
    "5. `real` e `img`\n",
    "* Acessa as partes real e imaginária de um número complexo (em números inteiros, a parte imaginária é zero)."
   ]
  },
  {
   "cell_type": "code",
   "execution_count": null,
   "metadata": {},
   "outputs": [],
   "source": [
    "x = 7\n",
    "print(\"Parte real:\", x.real)  # Saída: 7\n",
    "print(\"Parte imaginária:\", x.imag)  # Saída: 0\n"
   ]
  },
  {
   "cell_type": "markdown",
   "metadata": {},
   "source": [
    "* ```OBS```: Esses são alguns dos métodos associados a objetos inteiros em Python. Além desses, os objetos inteiros também herdam métodos da classe base object em Python. Para explorar outros métodos e detalhes, você pode usar a função dir() ou consultar a documentação oficial da linguagem Python."
   ]
  }
 ],
 "metadata": {
  "kernelspec": {
   "display_name": "base",
   "language": "python",
   "name": "python3"
  },
  "language_info": {
   "codemirror_mode": {
    "name": "ipython",
    "version": 3
   },
   "file_extension": ".py",
   "mimetype": "text/x-python",
   "name": "python",
   "nbconvert_exporter": "python",
   "pygments_lexer": "ipython3",
   "version": "3.11.5"
  }
 },
 "nbformat": 4,
 "nbformat_minor": 2
}
