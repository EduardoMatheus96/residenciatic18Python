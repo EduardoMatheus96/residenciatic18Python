{
 "cells": [
  {
   "cell_type": "markdown",
   "metadata": {},
   "source": [
    "<h1>Exercício 5: Manipulação de variáveis de ponto flutuante, explorando as\n",
    "características e os limites.<h1>"
   ]
  },
  {
   "cell_type": "markdown",
   "metadata": {},
   "source": [
    "* <p>Demonstre como funcionam os operadores aritméticos e aritméticos compostos em Python;</p>"
   ]
  },
  {
   "cell_type": "code",
   "execution_count": null,
   "metadata": {},
   "outputs": [],
   "source": [
    "# Declaração de variáveis com números de ponto flutuante\n",
    "a = 3.5\n",
    "b = 2.0\n",
    "\n",
    "# Operadores aritméticos\n",
    "soma = a + b\n",
    "subtracao = a - b\n",
    "multiplicacao = a * b\n",
    "divisao = a / b\n",
    "potencia = a ** b\n",
    "\n",
    "print(\"Operadores aritméticos:\")\n",
    "print(f\"Soma: {soma}\")\n",
    "print(f\"Subtração: {subtracao}\")\n",
    "print(f\"Multiplicação: {multiplicacao}\")\n",
    "print(f\"Divisão: {divisao}\")\n",
    "print(f\"Potência: {potencia}\")\n",
    "\n",
    "# Operadores aritméticos compostos\n",
    "c = 10.0\n",
    "c += 2.5  # c = c + 2.5\n",
    "c -= 1.0  # c = c - 1.0\n",
    "c *= 3.0  # c = c * 3.0\n",
    "c /= 2.0  # c = c / 2.0\n",
    "\n",
    "print(\"\\nOperadores aritméticos compostos:\")\n",
    "print(f\"Novo valor de c: {c}\")\n"
   ]
  },
  {
   "cell_type": "markdown",
   "metadata": {},
   "source": [
    "* <p>Utilizando o operador de exponenciação mostre qual a maior e a menor potência de 2 que pode ser representada com variáveis de ponto flutuante. </p>"
   ]
  },
  {
   "cell_type": "code",
   "execution_count": null,
   "metadata": {},
   "outputs": [],
   "source": [
    "import sys\n",
    "\n",
    "# Maior potência de 2 representável\n",
    "maior_potencia = sys.float_info.max_10_exp\n",
    "\n",
    "# Menor potência de 2 representável\n",
    "menor_potencia = sys.float_info.min_10_exp\n",
    "\n",
    "print(f\"Maior potência de 2 representável: 2^{maior_potencia}\")\n",
    "print(f\"Menor potência de 2 representável: 2^{menor_potencia}\")\n"
   ]
  },
  {
   "cell_type": "markdown",
   "metadata": {},
   "source": [
    "* <p>As variáveis numéricas são imutáveis. Demonstre com exemplos as implicações desta afirmação. </p>"
   ]
  },
  {
   "cell_type": "code",
   "execution_count": null,
   "metadata": {},
   "outputs": [],
   "source": [
    "# Exemplo 1: Imutabilidade de Floats\n",
    "a = 3.14\n",
    "print(\"Valor inicial de a:\", a)\n",
    "\n",
    "# Tentativa de modificação (isso resultará em erro)\n",
    "# a *= 2\n",
    "# print(\"Novo valor de a:\", a)\n",
    "\n",
    "# Exemplo 2: Implicações da Imutabilidade\n",
    "# Criação de Novas Variáveis\n",
    "b = a + 2.0\n",
    "print(\"Novo valor de b:\", b)\n",
    "\n",
    "# Exemplo 3: Operações Imutáveis\n",
    "c = 5.0\n",
    "d = c * 2.0\n",
    "print(\"Valor de c:\", c)\n",
    "print(\"Valor de d:\", d)\n"
   ]
  },
  {
   "cell_type": "markdown",
   "metadata": {},
   "source": [
    "* <p>Verifique quais métodos estão disponíveis para as variáveis de ponto flutuante.</p>"
   ]
  },
  {
   "cell_type": "code",
   "execution_count": null,
   "metadata": {},
   "outputs": [],
   "source": [
    "# Exemplo: Principais Métodos para Variáveis de Ponto Flutuante\n",
    "numero = 3.14\n",
    "\n",
    "# Método __abs__: Retorna o valor absoluto do número\n",
    "abs_numero = abs(numero)\n",
    "print(\"Valor absoluto:\", abs_numero)\n",
    "\n",
    "# Método __add__: Realiza a adição com outro número\n",
    "soma = numero.__add__(2.0)\n",
    "print(\"Soma com 2.0:\", soma)\n",
    "\n",
    "# Método __sub__: Realiza a subtração com outro número\n",
    "subtracao = numero.__sub__(1.0)\n",
    "print(\"Subtração por 1.0:\", subtracao)\n",
    "\n",
    "# Método __mul__: Realiza a multiplicação com outro número\n",
    "multiplicacao = numero.__mul__(2.0)\n",
    "print(\"Multiplicação por 2.0:\", multiplicacao)\n",
    "\n",
    "# Método __divmod__: Retorna a divisão e o resto da divisão por outro número\n",
    "divisao, resto = divmod(numero, 2.0)\n",
    "print(\"Divisão por 2.0:\", divisao)\n",
    "print(\"Resto da divisão por 2.0:\", resto)\n"
   ]
  },
  {
   "cell_type": "markdown",
   "metadata": {},
   "source": [
    "* ``OBS:`` Existem muitos metodos entao se quiser ver mais pode-se utilizar a função dir() para listar todos os métodos disponíveis para um objeto em Python.  "
   ]
  }
 ],
 "metadata": {
  "kernelspec": {
   "display_name": "base",
   "language": "python",
   "name": "python3"
  },
  "language_info": {
   "codemirror_mode": {
    "name": "ipython",
    "version": 3
   },
   "file_extension": ".py",
   "mimetype": "text/x-python",
   "name": "python",
   "nbconvert_exporter": "python",
   "pygments_lexer": "ipython3",
   "version": "3.11.5"
  }
 },
 "nbformat": 4,
 "nbformat_minor": 2
}
