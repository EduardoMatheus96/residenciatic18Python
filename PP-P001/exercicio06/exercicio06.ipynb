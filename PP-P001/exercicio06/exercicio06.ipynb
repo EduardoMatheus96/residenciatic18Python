{
 "cells": [
  {
   "cell_type": "markdown",
   "metadata": {},
   "source": [
    "<h1>Exercício 6: Manipulando listas</h1>"
   ]
  },
  {
   "cell_type": "markdown",
   "metadata": {},
   "source": [
    "* Dado o seguinte código, e antes de implementar, veja o que será impresso em cada caso:"
   ]
  },
  {
   "cell_type": "code",
   "execution_count": null,
   "metadata": {},
   "outputs": [],
   "source": [
    "L = [1,2,3,4,5,6,7,8,9]\n",
    "print(L[::-1]) # saida : [9,8,7,6,5,4,3,2,1];\n",
    "print(L[-1::]) # saida : [9];\n",
    "print(L[:-1:]) # saida : [1,2,3,4,5,6,7,8];\n",
    "print(L[::-2]) # saida : [9,7,5,3,1];\n",
    "print(L[-2::]) # saida : [8,9];\n",
    "print(L[:-2:]) # saida : [1,2,3,4,5,6,7];"
   ]
  },
  {
   "cell_type": "markdown",
   "metadata": {},
   "source": [
    "* Uma forma simplificada de determinar o seu animal no zodiaco chines é apresentada na seguinte tabela:  \n",
    "![Tabela do animal zodiaco Chinês](assets/tabela.png)"
   ]
  },
  {
   "cell_type": "code",
   "execution_count": 11,
   "metadata": {},
   "outputs": [
    {
     "name": "stdout",
     "output_type": "stream",
     "text": [
      "Rato\n"
     ]
    }
   ],
   "source": [
    "list = [\"Macaco\", \"Galo\", \"Cão\", \"Porco\", \"Rato\", \"Boi\", \"Tigre\", \"Coelho\", \"Dragão\", \"Serpente\", \"Cavalo\", \"Carneiro\"]\n",
    "anoNascimento = int(input(\"Informe seu ano de nascimento: \"))\n",
    "zodiacoChines = anoNascimento % 12\n",
    "print(zodiacoChines)\n",
    "print(list[zodiacoChines])"
   ]
  }
 ],
 "metadata": {
  "kernelspec": {
   "display_name": "base",
   "language": "python",
   "name": "python3"
  },
  "language_info": {
   "codemirror_mode": {
    "name": "ipython",
    "version": 3
   },
   "file_extension": ".py",
   "mimetype": "text/x-python",
   "name": "python",
   "nbconvert_exporter": "python",
   "pygments_lexer": "ipython3",
   "version": "3.11.5"
  }
 },
 "nbformat": 4,
 "nbformat_minor": 2
}
