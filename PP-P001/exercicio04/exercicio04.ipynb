{
 "cells": [
  {
   "cell_type": "markdown",
   "metadata": {},
   "source": [
    "<h1> Exercício 4: Manipulação de variáveis de tipo string e explorando os métodos da classe. </h1>\n",
    "\n",
    "* <p>Declare uma variável nome atribuindo a ela seu nome completo: </p>"
   ]
  },
  {
   "cell_type": "code",
   "execution_count": null,
   "metadata": {},
   "outputs": [],
   "source": [
    "nome = input(\"Informe seu nome: \")\n",
    "print(nome)"
   ]
  },
  {
   "cell_type": "markdown",
   "metadata": {},
   "source": [
    "* <p>Pesquise por funcionalidades já implementadas nas strings e separe em duas variáveis novas seu nome do seu sobrenome: </p>"
   ]
  },
  {
   "cell_type": "code",
   "execution_count": null,
   "metadata": {},
   "outputs": [],
   "source": [
    "nome = input(\"Informe seu nome: \")\n",
    "partes_do_nome = nome.split()\n",
    "primeiro_nome = partes_do_nome[0]\n",
    "sobrenome = \" \".join(partes_do_nome[1:]) if len(partes_do_nome) > 1 else \"\"\n",
    "\n",
    "print(\"Nome Completo: \", nome)\n",
    "print(\"Primeiro Nome: \", primeiro_nome)\n",
    "print(\"Sobrenome : \", sobrenome)"
   ]
  },
  {
   "cell_type": "markdown",
   "metadata": {},
   "source": [
    "* <p>Verifique qual das duas novas variáveis antecede a outra na ordem alfabética;</p>"
   ]
  },
  {
   "cell_type": "code",
   "execution_count": null,
   "metadata": {},
   "outputs": [],
   "source": [
    "# Declare uma variável nome atribuindo a ela seu nome completo\n",
    "nome_completo = \"Eduardo Matheus de Menezes Souto\"\n",
    "\n",
    "# Separar nome do sobrenome usando split\n",
    "partes_do_nome = nome_completo.split()\n",
    "primeiro_nome = partes_do_nome[0]\n",
    "sobrenome = \" \".join(partes_do_nome[1:]) if len(partes_do_nome) > 1 else \"\"\n",
    "\n",
    "print(\"Nome completo:\", nome_completo)\n",
    "print(\"Primeiro nome:\", primeiro_nome)\n",
    "print(\"Sobrenome:\", sobrenome)\n",
    "\n",
    "# Verificar qual nome antecede o outro na ordem alfabética\n",
    "if primeiro_nome < sobrenome:\n",
    "    print(f\"{primeiro_nome} antecede {sobrenome} na ordem alfabética.\")\n",
    "elif primeiro_nome > sobrenome:\n",
    "    print(f\"{sobrenome} antecede {primeiro_nome} na ordem alfabética.\")\n",
    "else:\n",
    "    print(\"Os nomes são iguais na ordem alfabética.\")\n"
   ]
  },
  {
   "cell_type": "markdown",
   "metadata": {},
   "source": [
    "* <p>Verifique a quantidade de caracteres de cada uma das novas variáveis: </p>"
   ]
  },
  {
   "cell_type": "code",
   "execution_count": null,
   "metadata": {},
   "outputs": [],
   "source": [
    "# Declare uma variável nome atribuindo a ela seu nome completo\n",
    "nome_completo = \"Eduardo Matheus de Menezes Souto\"\n",
    "\n",
    "# Separar nome do sobrenome usando split\n",
    "partes_do_nome = nome_completo.split()\n",
    "primeiro_nome = partes_do_nome[0]\n",
    "sobrenome = \" \".join(partes_do_nome[1:]) if len(partes_do_nome) > 1 else \"\"\n",
    "\n",
    "print(\"Nome completo:\", nome_completo)\n",
    "print(\"Primeiro nome:\", primeiro_nome)\n",
    "print(\"Sobrenome:\", sobrenome)\n",
    "\n",
    "# Verificar a quantidade de caracteres em cada variável\n",
    "qtd_caracteres_primeiro_nome = len(primeiro_nome)\n",
    "qtd_caracteres_sobrenome = len(sobrenome)\n",
    "\n",
    "print(f\"\\nQuantidade de caracteres em {primeiro_nome}: {qtd_caracteres_primeiro_nome}\")\n",
    "print(f\"Quantidade de caracteres em {sobrenome}: {qtd_caracteres_sobrenome}\")\n"
   ]
  }
 ],
 "metadata": {
  "kernelspec": {
   "display_name": "base",
   "language": "python",
   "name": "python3"
  },
  "language_info": {
   "codemirror_mode": {
    "name": "ipython",
    "version": 3
   },
   "file_extension": ".py",
   "mimetype": "text/x-python",
   "name": "python",
   "nbconvert_exporter": "python",
   "pygments_lexer": "ipython3",
   "version": "3.11.5"
  }
 },
 "nbformat": 4,
 "nbformat_minor": 2
}
