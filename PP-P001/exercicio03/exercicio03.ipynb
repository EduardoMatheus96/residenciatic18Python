{
 "cells": [
  {
   "cell_type": "markdown",
   "metadata": {},
   "source": [
    "## Manipulação de variáveis de tipo string e usando o uso de print"
   ]
  },
  {
   "cell_type": "markdown",
   "metadata": {},
   "source": [
    " \n",
    "Imprima na tela, utilizando print, cada um dos caracteres numéricos e seu correspondente código numérico. Pesquise como modificar o comportamento do print para imprimir como caractere e como número.\n",
    "* ``Exemplo:``    \n",
    "            ``‘0’ - 48``    \n",
    "            ``‘1’ - 49``  \n",
    "            ``…``    \n",
    "            ``‘9’ - 57``  "
   ]
  },
  {
   "cell_type": "code",
   "execution_count": null,
   "metadata": {},
   "outputs": [],
   "source": [
    "for i in range(10):\n",
    "    # Imprimir como caractere\n",
    "    print(f'\\'{chr(ord(\"0\") + i)}\\' - {ord(\"0\") + i}')\n",
    "\n",
    "    # Imprimir como número\n",
    "    print(f'{i} - {ord(\"0\") + i}')\n",
    "\n",
    "    # Adicionar uma linha em branco para separar os pares caractere/número\n",
    "    print()\n"
   ]
  },
  {
   "cell_type": "markdown",
   "metadata": {},
   "source": [
    "* Modificar para mostrar Octal e Hexadecimal também: \n"
   ]
  },
  {
   "cell_type": "code",
   "execution_count": null,
   "metadata": {},
   "outputs": [],
   "source": [
    "for i in range(10):\n",
    "    # Caractere e seu código numérico em decimal\n",
    "    print(f'\\'{chr(ord(\"0\") + i)}\\' - Decimal: {ord(\"0\") + i}')\n",
    "\n",
    "    # Código numérico em octal\n",
    "    print(f'\\'{chr(ord(\"0\") + i)}\\' - Octal: {oct(ord(\"0\") + i)}')\n",
    "\n",
    "    # Código numérico em hexadecimal\n",
    "    print(f'\\'{chr(ord(\"0\") + i)}\\' - Hexadecimal: {hex(ord(\"0\") + i)}')\n",
    "\n",
    "    # Adicionar uma linha em branco para separar os conjuntos de saídas\n",
    "    print()\n"
   ]
  },
  {
   "cell_type": "markdown",
   "metadata": {},
   "source": [
    "* Modificando para ler do teclado um caracter:"
   ]
  },
  {
   "cell_type": "code",
   "execution_count": 1,
   "metadata": {},
   "outputs": [
    {
     "name": "stdout",
     "output_type": "stream",
     "text": [
      "'a' - Decimal: 97\n",
      "'a' - Octal: 0o141\n",
      "'a' - Hexadecimal: 0x61\n"
     ]
    }
   ],
   "source": [
    "# Ler um caractere da entrada padrão\n",
    "caractere = input(\"Digite um caractere: \")\n",
    "\n",
    "# Verificar se o input é realmente um caractere\n",
    "if len(caractere) == 1:\n",
    "    # Imprimir o caractere e seu código numérico em decimal\n",
    "    print(f'\\'{caractere}\\' - Decimal: {ord(caractere)}')\n",
    "\n",
    "    # Código numérico em octal\n",
    "    print(f'\\'{caractere}\\' - Octal: {oct(ord(caractere))}')\n",
    "\n",
    "    # Código numérico em hexadecimal\n",
    "    print(f'\\'{caractere}\\' - Hexadecimal: {hex(ord(caractere))}')\n",
    "else:\n",
    "    print(\"Por favor, digite exatamente um caractere.\")"
   ]
  },
  {
   "cell_type": "markdown",
   "metadata": {},
   "source": [
    "## Caracteres especiais em Python"
   ]
  },
  {
   "cell_type": "markdown",
   "metadata": {},
   "source": [
    "Em Python, os caracteres especiais, como 'ç' e 'ã', são tratados como caracteres Unicode. O Unicode é um padrão de codificação que representa a maioria dos caracteres escritos em uso no mundo. O Python suporta Unicode, o que permite trabalhar facilmente com caracteres especiais."
   ]
  },
  {
   "cell_type": "code",
   "execution_count": 2,
   "metadata": {},
   "outputs": [
    {
     "name": "stdout",
     "output_type": "stream",
     "text": [
      "'ç' - Decimal: 231\n",
      "'ç' - Octal: 0o347\n",
      "'ç' - Hexadecimal: 0xe7\n",
      "\n",
      "Exemplo com caracteres especiais:\n",
      "'ç' - Decimal: 231\n",
      "'ç' - Octal: 0o347\n",
      "'ç' - Hexadecimal: 0xe7\n",
      "'ã' - Decimal: 227\n",
      "'ã' - Octal: 0o343\n",
      "'ã' - Hexadecimal: 0xe3\n"
     ]
    }
   ],
   "source": [
    "# Ler um caractere da entrada padrão\n",
    "caractere = input(\"Digite um caractere: \")\n",
    "\n",
    "# Verificar se o input é realmente um caractere\n",
    "if len(caractere) == 1:\n",
    "    # Imprimir o caractere e seu código numérico em decimal\n",
    "    print(f'\\'{caractere}\\' - Decimal: {ord(caractere)}')\n",
    "\n",
    "    # Código numérico em octal\n",
    "    print(f'\\'{caractere}\\' - Octal: {oct(ord(caractere))}')\n",
    "\n",
    "    # Código numérico em hexadecimal\n",
    "    print(f'\\'{caractere}\\' - Hexadecimal: {hex(ord(caractere))}')\n",
    "else:\n",
    "    print(\"Por favor, digite exatamente um caractere.\")\n",
    "\n",
    "# Exemplo com caracteres especiais\n",
    "exemplo_cedilha = 'ç'\n",
    "exemplo_til = 'ã'\n",
    "\n",
    "print(f'\\nExemplo com caracteres especiais:')\n",
    "print(f'\\'{exemplo_cedilha}\\' - Decimal: {ord(exemplo_cedilha)}')\n",
    "print(f'\\'{exemplo_cedilha}\\' - Octal: {oct(ord(exemplo_cedilha))}')\n",
    "print(f'\\'{exemplo_cedilha}\\' - Hexadecimal: {hex(ord(exemplo_cedilha))}')\n",
    "\n",
    "print(f'\\'{exemplo_til}\\' - Decimal: {ord(exemplo_til)}')\n",
    "print(f'\\'{exemplo_til}\\' - Octal: {oct(ord(exemplo_til))}')\n",
    "print(f'\\'{exemplo_til}\\' - Hexadecimal: {hex(ord(exemplo_til))}')\n"
   ]
  }
 ],
 "metadata": {
  "kernelspec": {
   "display_name": "base",
   "language": "python",
   "name": "python3"
  },
  "language_info": {
   "codemirror_mode": {
    "name": "ipython",
    "version": 3
   },
   "file_extension": ".py",
   "mimetype": "text/x-python",
   "name": "python",
   "nbconvert_exporter": "python",
   "pygments_lexer": "ipython3",
   "version": "3.11.5"
  }
 },
 "nbformat": 4,
 "nbformat_minor": 2
}
